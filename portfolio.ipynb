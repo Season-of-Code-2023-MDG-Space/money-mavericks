{
 "cells": [
  {
   "cell_type": "code",
   "execution_count": 3,
   "metadata": {},
   "outputs": [
    {
     "data": {
      "application/vnd.plotly.v1+json": {
       "config": {
        "plotlyServerURL": "https://plot.ly"
       },
       "data": [
        {
         "close": [
          89.12,
          88.08,
          86.2,
          87.34,
          88.02,
          88.42,
          91.52,
          91.13,
          92.12,
          91.29,
          91.12,
          93.05,
          98.02,
          99.79,
          97.7,
          95.22,
          97.52,
          99.37,
          96.94,
          98.84,
          100.43,
          107.74,
          104.78,
          102.9,
          107.64,
          99.37,
          95.01,
          94.57,
          94.61,
          94.68,
          96.94,
          95.51,
          94.35,
          91.79,
          91.65,
          90.89,
          89.13,
          89.87,
          90.06,
          90.36,
          92,
          93.65,
          95.13,
          93.86,
          94.25,
          92.32,
          90.63
         ],
         "high": [
          91.05,
          90.65,
          87.57,
          87.69,
          90.05,
          88.67,
          91.6,
          91.87,
          92.19,
          92.25,
          92.7999,
          93.605,
          98.3,
          100.04,
          99.61,
          96.162,
          97.57,
          100.32,
          98.29,
          98.88,
          101.19,
          107.85,
          107.81,
          104.36,
          108.18,
          103.14,
          100.03,
          96.75,
          95.2,
          94.845,
          97.12,
          97.68,
          95.5599,
          93.1,
          92.11,
          91.94,
          89.89,
          90.16,
          91.23,
          91.03,
          92.275,
          93.73,
          95.97,
          95.67,
          95.955,
          95.53,
          92.79
         ],
         "low": [
          88.52,
          87.271,
          85.9,
          84.86,
          87.86,
          85.83,
          89.01,
          89.75,
          90.1299,
          90.05,
          90.64,
          90.63,
          95.02,
          97.5,
          97.2,
          93.76,
          95.38,
          97.31,
          96.395,
          96.82,
          97.58,
          105.61,
          102.58,
          101.88,
          103.12,
          98.035,
          93.63,
          94.25,
          93.84,
          92.26,
          94.15,
          94.74,
          93.21,
          91.72,
          90.61,
          89.76,
          88.575,
          89.335,
          89.32,
          89.67,
          89.59,
          92.45,
          94,
          93.53,
          94,
          91.9,
          90.395
         ],
         "name": "GOOGL",
         "open": [
          89.585,
          90.35,
          87.47,
          86.79,
          88.36,
          85.98,
          89.18,
          91.48,
          90.85,
          92.06,
          92.14,
          90.72,
          95.1,
          97.95,
          98.1,
          95.57,
          96.5,
          97.31,
          97.48,
          96.87,
          98.71,
          105.8,
          102.93,
          102.4,
          103.22,
          102.05,
          100,
          95.45,
          94.74,
          94.43,
          94.49,
          95.37,
          94.85,
          93,
          91.7,
          91.92,
          89.44,
          89.87,
          89.33,
          89.98,
          89.66,
          92.48,
          94.015,
          94.98,
          94.12,
          94.05,
          92.17
         ],
         "type": "candlestick",
         "x": [
          "2023-01-03T00:00:00-05:00",
          "2023-01-04T00:00:00-05:00",
          "2023-01-05T00:00:00-05:00",
          "2023-01-06T00:00:00-05:00",
          "2023-01-09T00:00:00-05:00",
          "2023-01-10T00:00:00-05:00",
          "2023-01-11T00:00:00-05:00",
          "2023-01-12T00:00:00-05:00",
          "2023-01-13T00:00:00-05:00",
          "2023-01-17T00:00:00-05:00",
          "2023-01-18T00:00:00-05:00",
          "2023-01-19T00:00:00-05:00",
          "2023-01-20T00:00:00-05:00",
          "2023-01-23T00:00:00-05:00",
          "2023-01-24T00:00:00-05:00",
          "2023-01-25T00:00:00-05:00",
          "2023-01-26T00:00:00-05:00",
          "2023-01-27T00:00:00-05:00",
          "2023-01-30T00:00:00-05:00",
          "2023-01-31T00:00:00-05:00",
          "2023-02-01T00:00:00-05:00",
          "2023-02-02T00:00:00-05:00",
          "2023-02-03T00:00:00-05:00",
          "2023-02-06T00:00:00-05:00",
          "2023-02-07T00:00:00-05:00",
          "2023-02-08T00:00:00-05:00",
          "2023-02-09T00:00:00-05:00",
          "2023-02-10T00:00:00-05:00",
          "2023-02-13T00:00:00-05:00",
          "2023-02-14T00:00:00-05:00",
          "2023-02-15T00:00:00-05:00",
          "2023-02-16T00:00:00-05:00",
          "2023-02-17T00:00:00-05:00",
          "2023-02-21T00:00:00-05:00",
          "2023-02-22T00:00:00-05:00",
          "2023-02-23T00:00:00-05:00",
          "2023-02-24T00:00:00-05:00",
          "2023-02-27T00:00:00-05:00",
          "2023-02-28T00:00:00-05:00",
          "2023-03-01T00:00:00-05:00",
          "2023-03-02T00:00:00-05:00",
          "2023-03-03T00:00:00-05:00",
          "2023-03-06T00:00:00-05:00",
          "2023-03-07T00:00:00-05:00",
          "2023-03-08T00:00:00-05:00",
          "2023-03-09T00:00:00-05:00",
          "2023-03-10T00:00:00-05:00"
         ]
        },
        {
         "close": [
          124.74,
          127.37,
          126.94,
          130.02,
          129.47,
          132.99,
          132.89,
          136.71,
          136.98,
          135.36,
          133.02,
          136.15,
          139.37,
          143.27,
          143.14,
          141.5,
          147.3,
          151.74,
          147.06,
          148.97,
          153.12,
          188.77,
          186.53,
          186.06,
          191.62,
          183.43,
          177.92,
          174.15,
          179.43,
          179.48,
          177.16,
          172.44,
          172.88,
          172.08,
          171.12,
          172.04,
          170.39,
          169.54,
          174.94,
          173.42,
          174.53,
          185.25,
          184.9,
          184.51,
          184.97,
          181.69,
          179.51
         ],
         "high": [
          126.37,
          129.0498,
          128.52,
          130.33,
          132.95,
          133.44,
          133.8494,
          137.6781,
          137.39,
          136.75,
          137.25,
          137.45,
          139.94,
          143.76,
          145,
          143.17,
          147.51,
          153.19,
          151.1233,
          149.88,
          153.58,
          197.16,
          196.77,
          190.7,
          193.7799,
          190.83,
          186.65,
          178.89,
          181,
          181.5064,
          178.19,
          175.85,
          173.18,
          178.17,
          172.755,
          173.69,
          170.72,
          173.12,
          177.55,
          177.85,
          175.01,
          186.62,
          189.66,
          190.36,
          185.26,
          188.93,
          184.77
         ],
         "low": [
          122.28,
          125.85,
          124.54,
          126.04,
          129.28,
          127.15,
          130.34,
          131.76,
          134.835,
          134.25,
          132.8,
          132.14,
          134.61,
          138.66,
          141.36,
          140.31,
          143.3,
          147.39,
          146.95,
          147.52,
          147.06,
          180.16,
          182.89,
          185.5156,
          184.4,
          182.92,
          177.27,
          173.35,
          175.82,
          175.88,
          175.33,
          171.79,
          169.7,
          171.88,
          169.69,
          169.38,
          167.66,
          169.06,
          171.87,
          173.05,
          171.43,
          177.05,
          184.64,
          184.01,
          181.34,
          180.3,
          178.8
         ],
         "name": "META",
         "open": [
          122.82,
          127.38,
          126.125,
          128.97,
          131.16,
          127.27,
          130.96,
          133.44,
          134.97,
          136.176,
          135.81,
          132.49,
          135.89,
          139.29,
          141.69,
          141.22,
          144.4,
          148.237,
          149.405,
          147.95,
          148.03,
          183.38,
          183.465,
          186.53,
          185.575,
          190,
          186.13,
          176.3534,
          178.215,
          177.16,
          176.415,
          172.75,
          170.22,
          174.31,
          171.07,
          172,
          168.64,
          171.875,
          171.9,
          174.59,
          172.38,
          178.92,
          188,
          189,
          182.87,
          186.35,
          181.01
         ],
         "type": "candlestick",
         "x": [
          "2023-01-03T00:00:00-05:00",
          "2023-01-04T00:00:00-05:00",
          "2023-01-05T00:00:00-05:00",
          "2023-01-06T00:00:00-05:00",
          "2023-01-09T00:00:00-05:00",
          "2023-01-10T00:00:00-05:00",
          "2023-01-11T00:00:00-05:00",
          "2023-01-12T00:00:00-05:00",
          "2023-01-13T00:00:00-05:00",
          "2023-01-17T00:00:00-05:00",
          "2023-01-18T00:00:00-05:00",
          "2023-01-19T00:00:00-05:00",
          "2023-01-20T00:00:00-05:00",
          "2023-01-23T00:00:00-05:00",
          "2023-01-24T00:00:00-05:00",
          "2023-01-25T00:00:00-05:00",
          "2023-01-26T00:00:00-05:00",
          "2023-01-27T00:00:00-05:00",
          "2023-01-30T00:00:00-05:00",
          "2023-01-31T00:00:00-05:00",
          "2023-02-01T00:00:00-05:00",
          "2023-02-02T00:00:00-05:00",
          "2023-02-03T00:00:00-05:00",
          "2023-02-06T00:00:00-05:00",
          "2023-02-07T00:00:00-05:00",
          "2023-02-08T00:00:00-05:00",
          "2023-02-09T00:00:00-05:00",
          "2023-02-10T00:00:00-05:00",
          "2023-02-13T00:00:00-05:00",
          "2023-02-14T00:00:00-05:00",
          "2023-02-15T00:00:00-05:00",
          "2023-02-16T00:00:00-05:00",
          "2023-02-17T00:00:00-05:00",
          "2023-02-21T00:00:00-05:00",
          "2023-02-22T00:00:00-05:00",
          "2023-02-23T00:00:00-05:00",
          "2023-02-24T00:00:00-05:00",
          "2023-02-27T00:00:00-05:00",
          "2023-02-28T00:00:00-05:00",
          "2023-03-01T00:00:00-05:00",
          "2023-03-02T00:00:00-05:00",
          "2023-03-03T00:00:00-05:00",
          "2023-03-06T00:00:00-05:00",
          "2023-03-07T00:00:00-05:00",
          "2023-03-08T00:00:00-05:00",
          "2023-03-09T00:00:00-05:00",
          "2023-03-10T00:00:00-05:00"
         ]
        }
       ],
       "layout": {
        "template": {
         "data": {
          "bar": [
           {
            "error_x": {
             "color": "#2a3f5f"
            },
            "error_y": {
             "color": "#2a3f5f"
            },
            "marker": {
             "line": {
              "color": "#E5ECF6",
              "width": 0.5
             },
             "pattern": {
              "fillmode": "overlay",
              "size": 10,
              "solidity": 0.2
             }
            },
            "type": "bar"
           }
          ],
          "barpolar": [
           {
            "marker": {
             "line": {
              "color": "#E5ECF6",
              "width": 0.5
             },
             "pattern": {
              "fillmode": "overlay",
              "size": 10,
              "solidity": 0.2
             }
            },
            "type": "barpolar"
           }
          ],
          "carpet": [
           {
            "aaxis": {
             "endlinecolor": "#2a3f5f",
             "gridcolor": "white",
             "linecolor": "white",
             "minorgridcolor": "white",
             "startlinecolor": "#2a3f5f"
            },
            "baxis": {
             "endlinecolor": "#2a3f5f",
             "gridcolor": "white",
             "linecolor": "white",
             "minorgridcolor": "white",
             "startlinecolor": "#2a3f5f"
            },
            "type": "carpet"
           }
          ],
          "choropleth": [
           {
            "colorbar": {
             "outlinewidth": 0,
             "ticks": ""
            },
            "type": "choropleth"
           }
          ],
          "contour": [
           {
            "colorbar": {
             "outlinewidth": 0,
             "ticks": ""
            },
            "colorscale": [
             [
              0,
              "#0d0887"
             ],
             [
              0.1111111111111111,
              "#46039f"
             ],
             [
              0.2222222222222222,
              "#7201a8"
             ],
             [
              0.3333333333333333,
              "#9c179e"
             ],
             [
              0.4444444444444444,
              "#bd3786"
             ],
             [
              0.5555555555555556,
              "#d8576b"
             ],
             [
              0.6666666666666666,
              "#ed7953"
             ],
             [
              0.7777777777777778,
              "#fb9f3a"
             ],
             [
              0.8888888888888888,
              "#fdca26"
             ],
             [
              1,
              "#f0f921"
             ]
            ],
            "type": "contour"
           }
          ],
          "contourcarpet": [
           {
            "colorbar": {
             "outlinewidth": 0,
             "ticks": ""
            },
            "type": "contourcarpet"
           }
          ],
          "heatmap": [
           {
            "colorbar": {
             "outlinewidth": 0,
             "ticks": ""
            },
            "colorscale": [
             [
              0,
              "#0d0887"
             ],
             [
              0.1111111111111111,
              "#46039f"
             ],
             [
              0.2222222222222222,
              "#7201a8"
             ],
             [
              0.3333333333333333,
              "#9c179e"
             ],
             [
              0.4444444444444444,
              "#bd3786"
             ],
             [
              0.5555555555555556,
              "#d8576b"
             ],
             [
              0.6666666666666666,
              "#ed7953"
             ],
             [
              0.7777777777777778,
              "#fb9f3a"
             ],
             [
              0.8888888888888888,
              "#fdca26"
             ],
             [
              1,
              "#f0f921"
             ]
            ],
            "type": "heatmap"
           }
          ],
          "heatmapgl": [
           {
            "colorbar": {
             "outlinewidth": 0,
             "ticks": ""
            },
            "colorscale": [
             [
              0,
              "#0d0887"
             ],
             [
              0.1111111111111111,
              "#46039f"
             ],
             [
              0.2222222222222222,
              "#7201a8"
             ],
             [
              0.3333333333333333,
              "#9c179e"
             ],
             [
              0.4444444444444444,
              "#bd3786"
             ],
             [
              0.5555555555555556,
              "#d8576b"
             ],
             [
              0.6666666666666666,
              "#ed7953"
             ],
             [
              0.7777777777777778,
              "#fb9f3a"
             ],
             [
              0.8888888888888888,
              "#fdca26"
             ],
             [
              1,
              "#f0f921"
             ]
            ],
            "type": "heatmapgl"
           }
          ],
          "histogram": [
           {
            "marker": {
             "pattern": {
              "fillmode": "overlay",
              "size": 10,
              "solidity": 0.2
             }
            },
            "type": "histogram"
           }
          ],
          "histogram2d": [
           {
            "colorbar": {
             "outlinewidth": 0,
             "ticks": ""
            },
            "colorscale": [
             [
              0,
              "#0d0887"
             ],
             [
              0.1111111111111111,
              "#46039f"
             ],
             [
              0.2222222222222222,
              "#7201a8"
             ],
             [
              0.3333333333333333,
              "#9c179e"
             ],
             [
              0.4444444444444444,
              "#bd3786"
             ],
             [
              0.5555555555555556,
              "#d8576b"
             ],
             [
              0.6666666666666666,
              "#ed7953"
             ],
             [
              0.7777777777777778,
              "#fb9f3a"
             ],
             [
              0.8888888888888888,
              "#fdca26"
             ],
             [
              1,
              "#f0f921"
             ]
            ],
            "type": "histogram2d"
           }
          ],
          "histogram2dcontour": [
           {
            "colorbar": {
             "outlinewidth": 0,
             "ticks": ""
            },
            "colorscale": [
             [
              0,
              "#0d0887"
             ],
             [
              0.1111111111111111,
              "#46039f"
             ],
             [
              0.2222222222222222,
              "#7201a8"
             ],
             [
              0.3333333333333333,
              "#9c179e"
             ],
             [
              0.4444444444444444,
              "#bd3786"
             ],
             [
              0.5555555555555556,
              "#d8576b"
             ],
             [
              0.6666666666666666,
              "#ed7953"
             ],
             [
              0.7777777777777778,
              "#fb9f3a"
             ],
             [
              0.8888888888888888,
              "#fdca26"
             ],
             [
              1,
              "#f0f921"
             ]
            ],
            "type": "histogram2dcontour"
           }
          ],
          "mesh3d": [
           {
            "colorbar": {
             "outlinewidth": 0,
             "ticks": ""
            },
            "type": "mesh3d"
           }
          ],
          "parcoords": [
           {
            "line": {
             "colorbar": {
              "outlinewidth": 0,
              "ticks": ""
             }
            },
            "type": "parcoords"
           }
          ],
          "pie": [
           {
            "automargin": true,
            "type": "pie"
           }
          ],
          "scatter": [
           {
            "fillpattern": {
             "fillmode": "overlay",
             "size": 10,
             "solidity": 0.2
            },
            "type": "scatter"
           }
          ],
          "scatter3d": [
           {
            "line": {
             "colorbar": {
              "outlinewidth": 0,
              "ticks": ""
             }
            },
            "marker": {
             "colorbar": {
              "outlinewidth": 0,
              "ticks": ""
             }
            },
            "type": "scatter3d"
           }
          ],
          "scattercarpet": [
           {
            "marker": {
             "colorbar": {
              "outlinewidth": 0,
              "ticks": ""
             }
            },
            "type": "scattercarpet"
           }
          ],
          "scattergeo": [
           {
            "marker": {
             "colorbar": {
              "outlinewidth": 0,
              "ticks": ""
             }
            },
            "type": "scattergeo"
           }
          ],
          "scattergl": [
           {
            "marker": {
             "colorbar": {
              "outlinewidth": 0,
              "ticks": ""
             }
            },
            "type": "scattergl"
           }
          ],
          "scattermapbox": [
           {
            "marker": {
             "colorbar": {
              "outlinewidth": 0,
              "ticks": ""
             }
            },
            "type": "scattermapbox"
           }
          ],
          "scatterpolar": [
           {
            "marker": {
             "colorbar": {
              "outlinewidth": 0,
              "ticks": ""
             }
            },
            "type": "scatterpolar"
           }
          ],
          "scatterpolargl": [
           {
            "marker": {
             "colorbar": {
              "outlinewidth": 0,
              "ticks": ""
             }
            },
            "type": "scatterpolargl"
           }
          ],
          "scatterternary": [
           {
            "marker": {
             "colorbar": {
              "outlinewidth": 0,
              "ticks": ""
             }
            },
            "type": "scatterternary"
           }
          ],
          "surface": [
           {
            "colorbar": {
             "outlinewidth": 0,
             "ticks": ""
            },
            "colorscale": [
             [
              0,
              "#0d0887"
             ],
             [
              0.1111111111111111,
              "#46039f"
             ],
             [
              0.2222222222222222,
              "#7201a8"
             ],
             [
              0.3333333333333333,
              "#9c179e"
             ],
             [
              0.4444444444444444,
              "#bd3786"
             ],
             [
              0.5555555555555556,
              "#d8576b"
             ],
             [
              0.6666666666666666,
              "#ed7953"
             ],
             [
              0.7777777777777778,
              "#fb9f3a"
             ],
             [
              0.8888888888888888,
              "#fdca26"
             ],
             [
              1,
              "#f0f921"
             ]
            ],
            "type": "surface"
           }
          ],
          "table": [
           {
            "cells": {
             "fill": {
              "color": "#EBF0F8"
             },
             "line": {
              "color": "white"
             }
            },
            "header": {
             "fill": {
              "color": "#C8D4E3"
             },
             "line": {
              "color": "white"
             }
            },
            "type": "table"
           }
          ]
         },
         "layout": {
          "annotationdefaults": {
           "arrowcolor": "#2a3f5f",
           "arrowhead": 0,
           "arrowwidth": 1
          },
          "autotypenumbers": "strict",
          "coloraxis": {
           "colorbar": {
            "outlinewidth": 0,
            "ticks": ""
           }
          },
          "colorscale": {
           "diverging": [
            [
             0,
             "#8e0152"
            ],
            [
             0.1,
             "#c51b7d"
            ],
            [
             0.2,
             "#de77ae"
            ],
            [
             0.3,
             "#f1b6da"
            ],
            [
             0.4,
             "#fde0ef"
            ],
            [
             0.5,
             "#f7f7f7"
            ],
            [
             0.6,
             "#e6f5d0"
            ],
            [
             0.7,
             "#b8e186"
            ],
            [
             0.8,
             "#7fbc41"
            ],
            [
             0.9,
             "#4d9221"
            ],
            [
             1,
             "#276419"
            ]
           ],
           "sequential": [
            [
             0,
             "#0d0887"
            ],
            [
             0.1111111111111111,
             "#46039f"
            ],
            [
             0.2222222222222222,
             "#7201a8"
            ],
            [
             0.3333333333333333,
             "#9c179e"
            ],
            [
             0.4444444444444444,
             "#bd3786"
            ],
            [
             0.5555555555555556,
             "#d8576b"
            ],
            [
             0.6666666666666666,
             "#ed7953"
            ],
            [
             0.7777777777777778,
             "#fb9f3a"
            ],
            [
             0.8888888888888888,
             "#fdca26"
            ],
            [
             1,
             "#f0f921"
            ]
           ],
           "sequentialminus": [
            [
             0,
             "#0d0887"
            ],
            [
             0.1111111111111111,
             "#46039f"
            ],
            [
             0.2222222222222222,
             "#7201a8"
            ],
            [
             0.3333333333333333,
             "#9c179e"
            ],
            [
             0.4444444444444444,
             "#bd3786"
            ],
            [
             0.5555555555555556,
             "#d8576b"
            ],
            [
             0.6666666666666666,
             "#ed7953"
            ],
            [
             0.7777777777777778,
             "#fb9f3a"
            ],
            [
             0.8888888888888888,
             "#fdca26"
            ],
            [
             1,
             "#f0f921"
            ]
           ]
          },
          "colorway": [
           "#636efa",
           "#EF553B",
           "#00cc96",
           "#ab63fa",
           "#FFA15A",
           "#19d3f3",
           "#FF6692",
           "#B6E880",
           "#FF97FF",
           "#FECB52"
          ],
          "font": {
           "color": "#2a3f5f"
          },
          "geo": {
           "bgcolor": "white",
           "lakecolor": "white",
           "landcolor": "#E5ECF6",
           "showlakes": true,
           "showland": true,
           "subunitcolor": "white"
          },
          "hoverlabel": {
           "align": "left"
          },
          "hovermode": "closest",
          "mapbox": {
           "style": "light"
          },
          "paper_bgcolor": "white",
          "plot_bgcolor": "#E5ECF6",
          "polar": {
           "angularaxis": {
            "gridcolor": "white",
            "linecolor": "white",
            "ticks": ""
           },
           "bgcolor": "#E5ECF6",
           "radialaxis": {
            "gridcolor": "white",
            "linecolor": "white",
            "ticks": ""
           }
          },
          "scene": {
           "xaxis": {
            "backgroundcolor": "#E5ECF6",
            "gridcolor": "white",
            "gridwidth": 2,
            "linecolor": "white",
            "showbackground": true,
            "ticks": "",
            "zerolinecolor": "white"
           },
           "yaxis": {
            "backgroundcolor": "#E5ECF6",
            "gridcolor": "white",
            "gridwidth": 2,
            "linecolor": "white",
            "showbackground": true,
            "ticks": "",
            "zerolinecolor": "white"
           },
           "zaxis": {
            "backgroundcolor": "#E5ECF6",
            "gridcolor": "white",
            "gridwidth": 2,
            "linecolor": "white",
            "showbackground": true,
            "ticks": "",
            "zerolinecolor": "white"
           }
          },
          "shapedefaults": {
           "line": {
            "color": "#2a3f5f"
           }
          },
          "ternary": {
           "aaxis": {
            "gridcolor": "white",
            "linecolor": "white",
            "ticks": ""
           },
           "baxis": {
            "gridcolor": "white",
            "linecolor": "white",
            "ticks": ""
           },
           "bgcolor": "#E5ECF6",
           "caxis": {
            "gridcolor": "white",
            "linecolor": "white",
            "ticks": ""
           }
          },
          "title": {
           "x": 0.05
          },
          "xaxis": {
           "automargin": true,
           "gridcolor": "white",
           "linecolor": "white",
           "ticks": "",
           "title": {
            "standoff": 15
           },
           "zerolinecolor": "white",
           "zerolinewidth": 2
          },
          "yaxis": {
           "automargin": true,
           "gridcolor": "white",
           "linecolor": "white",
           "ticks": "",
           "title": {
            "standoff": 15
           },
           "zerolinecolor": "white",
           "zerolinewidth": 2
          }
         }
        },
        "title": {
         "text": "Portfolio Status"
        },
        "xaxis": {
         "title": {
          "text": "Date"
         }
        },
        "yaxis": {
         "title": {
          "text": "Price in USD($)"
         }
        }
       }
      }
     },
     "metadata": {},
     "output_type": "display_data"
    }
   ],
   "source": [
    "import alpaca_trade_api as tradeapi\n",
    "import plotly.graph_objs as go\n",
    "\n",
    "API_KEY = 'PKBFBNPPGUMUVT9RDGHM'\n",
    "SECRET_KEY = 'ul8hPANydnass1picoUQmWluRF2aTn2qRlsf0B9X'\n",
    "APCA_API_BASE_URL = 'https://paper-api.alpaca.markets'\n",
    "\n",
    "api = tradeapi.REST(API_KEY, SECRET_KEY, APCA_API_BASE_URL, api_version='v2')\n",
    "\n",
    "account_info = api.get_account()\n",
    "positions = api.list_positions()\n",
    "\n",
    "stock_data = {}\n",
    "\n",
    "for position in positions:\n",
    "    symbol = position.symbol\n",
    "    \n",
    "    bars = api.get_bars(symbol, tradeapi.TimeFrame.Day, '2023-01-01', '2023-03-10')\n",
    "    stock_data[symbol] = bars\n",
    "\n",
    "data = []\n",
    "\n",
    "for symbol, bars in stock_data.items():\n",
    "    data.append(\n",
    "        go.Candlestick(x=[bar.t for bar in bars],\n",
    "                       open=[bar.o for bar in bars],\n",
    "                       high=[bar.h for bar in bars],\n",
    "                       low=[bar.l for bar in bars],\n",
    "                       close=[bar.c for bar in bars],\n",
    "                       name=symbol)\n",
    "    )\n",
    "\n",
    "layout = go.Layout(\n",
    "    title='Portfolio Status',\n",
    "    yaxis=dict(title='Price in USD($)'),\n",
    "    xaxis=dict(title='Date')\n",
    ")\n",
    "\n",
    "fig = go.Figure(data=data, layout=layout)\n",
    "\n",
    "fig.show()\n"
   ]
  },
  {
   "cell_type": "code",
   "execution_count": 5,
   "metadata": {},
   "outputs": [
    {
     "name": "stdout",
     "output_type": "stream",
     "text": [
      "{'id': '48d444e2-2241-4571-bb3a-12b6ec116b1e', 'account_number': 'PA3TKYVGITJ5', 'status': 'ACTIVE', 'crypto_status': 'ACTIVE', 'currency': 'USD', 'buying_power': '199426.7', 'regt_buying_power': '199426.7', 'daytrading_buying_power': '0', 'effective_buying_power': '199426.7', 'non_marginable_buying_power': '99440.25', 'bod_dtbp': '0', 'cash': '99440.25', 'accrued_fees': '0', 'pending_transfer_in': '0', 'portfolio_value': '99986.45', 'pattern_day_trader': False, 'trading_blocked': False, 'transfers_blocked': False, 'account_blocked': False, 'created_at': '2023-03-08T14:59:15.165985Z', 'trade_suspended_by_user': False, 'multiplier': '2', 'shorting_enabled': True, 'equity': '99986.45', 'last_equity': '99980.53', 'long_market_value': '546.2', 'short_market_value': '0', 'position_market_value': '546.2', 'initial_margin': '273.1', 'maintenance_margin': '163.86', 'last_maintenance_margin': '162.08', 'sma': '99988.27', 'daytrade_count': 3, 'balance_asof': '2023-03-10', 'crypto_tier': 1}\n"
     ]
    }
   ],
   "source": [
    "import requests\n",
    "\n",
    "# Alpaca API credentials\n",
    "api_key = \"PKBFBNPPGUMUVT9RDGHM\"\n",
    "secret_key = \"ul8hPANydnass1picoUQmWluRF2aTn2qRlsf0B9X\"\n",
    "\n",
    "# Alpaca API endpoint for portfolio details\n",
    "endpoint = \"https://paper-api.alpaca.markets/v2/account\"\n",
    "\n",
    "# Set headers\n",
    "headers = {\n",
    "            \"APCA-API-KEY-ID\": api_key,\n",
    "            \"APCA-API-SECRET-KEY\": secret_key\n",
    "        }\n",
    "\n",
    "# Make request to the Alpaca API\n",
    "response = requests.get(endpoint, headers=headers)\n",
    "\n",
    "# Check for successful response\n",
    "if response.status_code == 200:\n",
    "    data = response.json()\n",
    "\n",
    "print(data)"
   ]
  },
  {
   "cell_type": "code",
   "execution_count": 4,
   "metadata": {},
   "outputs": [
    {
     "name": "stdout",
     "output_type": "stream",
     "text": [
      "\n",
      "Transacted At 2023-03-09 09:00:00.463045+00:00 Market order to sell 2 stock of META company is filled.\n",
      "Transacted At 2023-03-09 09:00:00.457798+00:00 Market order to buy 2 stock of META company is filled.\n",
      "Transacted At 2023-03-08 17:43:25.925600+00:00 Market order to buy 2 stock of META company is filled.\n",
      "Transacted At 2023-03-08 16:11:25.952666+00:00 Market order to sell 2 stock of META company is filled.\n",
      "Transacted At 2023-03-08 16:09:03.266107+00:00 Limit order to buy 2 stock of GOOGL company is filled with limit price of $2400.\n"
     ]
    }
   ],
   "source": [
    "import requests\n",
    "import json\n",
    "import alpaca_trade_api as tradeapi\n",
    "\n",
    "#Alpaca API Credentials:\n",
    "api_key = \"PKBFBNPPGUMUVT9RDGHM\"\n",
    "secret_key = \"ul8hPANydnass1picoUQmWluRF2aTn2qRlsf0B9X\"\n",
    "base_url = 'https://paper-api.alpaca.markets'\n",
    "\n",
    "# Set headers\n",
    "headers = {\n",
    "    \"APCA-API-KEY-ID\": api_key,\n",
    "    \"APCA-API-SECRET-KEY\": secret_key\n",
    "}\n",
    "\n",
    "api = tradeapi.REST(\n",
    "\n",
    "    base_url = base_url,\n",
    "    key_id = api_key,\n",
    "    secret_key = secret_key\n",
    ")\n",
    "\n",
    "message = ''\n",
    "\n",
    "last = api.list_orders(status = 'all', limit = 5, direction = 'desc')\n",
    "        \n",
    "for order in last:\n",
    "    if order.order_type == 'limit':\n",
    "        mess = 'Transacted At '+ str(order.submitted_at)+ ' '+ order.order_type.capitalize()+ ' order to '+ order.side + ' '+ str(order.qty) + ' stock of '+order.symbol + ' company'+ ' is '+ order.status + ' with limit price of $' + order.limit_price + '.'\n",
    "    else:\n",
    "        mess = 'Transacted At '+ str(order.submitted_at)+ ' '+ order.order_type.capitalize() + ' order to ' + order.side+ ' ' + str(order.qty) + ' stock of '+ order.symbol + ' company is ' + order.status+'.'\n",
    "\n",
    "    message = message + '\\n' + mess\n",
    "\n",
    "print(message)"
   ]
  },
  {
   "cell_type": "code",
   "execution_count": null,
   "metadata": {},
   "outputs": [],
   "source": [
    "today = datetime.today() \n",
    "\n",
    "        # Format the date as a string\n",
    "        date_string = today.strftime('%Y-%m-%d')\n",
    "\n",
    "        bars = api.get_bars(symbol, tradeapi.TimeFrame.Day, '2023-01-01', today)"
   ]
  }
 ],
 "metadata": {
  "kernelspec": {
   "display_name": "Python 3",
   "language": "python",
   "name": "python3"
  },
  "language_info": {
   "codemirror_mode": {
    "name": "ipython",
    "version": 3
   },
   "file_extension": ".py",
   "mimetype": "text/x-python",
   "name": "python",
   "nbconvert_exporter": "python",
   "pygments_lexer": "ipython3",
   "version": "3.10.4"
  },
  "orig_nbformat": 4
 },
 "nbformat": 4,
 "nbformat_minor": 2
}
